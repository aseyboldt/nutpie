{
 "cells": [
  {
   "cell_type": "code",
   "execution_count": 1,
   "id": "c097260f",
   "metadata": {},
   "outputs": [
    {
     "name": "stdout",
     "output_type": "stream",
     "text": [
      "env: RAYON_NUM_THREADS=4\n"
     ]
    }
   ],
   "source": [
    "%env RAYON_NUM_THREADS=4"
   ]
  },
  {
   "cell_type": "code",
   "execution_count": 2,
   "id": "16871d6f",
   "metadata": {},
   "outputs": [
    {
     "name": "stderr",
     "output_type": "stream",
     "text": [
      "/home/adr/mambaforge/envs/pymc-dev/lib/python3.9/site-packages/pkg_resources/__init__.py:116: PkgResourcesDeprecationWarning: dev is an invalid version and will not be supported in a future release\n",
      "  warnings.warn(\n"
     ]
    }
   ],
   "source": [
    "import aesara\n",
    "import aesara.tensor as at\n",
    "import pymc as pm\n",
    "import numpy as np\n",
    "import nuts_py\n",
    "import numba\n",
    "from math import prod\n",
    "import fastprogress\n",
    "import arviz\n",
    "import os\n",
    "import threadpoolctl"
   ]
  },
  {
   "cell_type": "code",
   "execution_count": 3,
   "id": "5dc42a53",
   "metadata": {},
   "outputs": [],
   "source": [
    "# Some helper functions to compile logp functions as needed\n",
    "def compute_shapes(model):\n",
    "    point = pm.model.make_initial_point_fn(model=model, return_transformed=True)(0)\n",
    "\n",
    "    value_vars = model.value_vars.copy()\n",
    "    trace_vars = {\n",
    "        name: var\n",
    "        for (name, var) in model.named_vars.items()\n",
    "        if var not in model.observed_RVs + model.potentials\n",
    "    }\n",
    "\n",
    "    shape_func = aesara.function(\n",
    "        inputs=[],\n",
    "        outputs=[var.shape for var in trace_vars.values()],\n",
    "        givens=(\n",
    "            [(obs, obs.tag.observations) for obs in model.observed_RVs]\n",
    "            + [\n",
    "                (trace_vars[name], point[name])\n",
    "                for name in trace_vars.keys()\n",
    "                if name in point\n",
    "            ]\n",
    "        ),\n",
    "        mode=aesara.compile.mode.FAST_COMPILE,\n",
    "        on_unused_input=\"ignore\",\n",
    "    )\n",
    "    return {name: shape for name, shape in zip(trace_vars.keys(), shape_func())}\n",
    "\n",
    "\n",
    "def make_functions(model):\n",
    "    shapes = compute_shapes(model)\n",
    "\n",
    "    # Make logp_dlogp_function\n",
    "    joined = at.dvector(\"__joined_variables\")\n",
    "\n",
    "    value_vars = [model.rvs_to_values[var] for var in model.free_RVs]\n",
    "\n",
    "    logp = model.logpt()\n",
    "    grads = at.grad(logp, value_vars)\n",
    "    grad = at.concatenate([grad.ravel() for grad in grads])\n",
    "\n",
    "    count = 0\n",
    "    joined_slices = []\n",
    "    joined_shapes = []\n",
    "    joined_names = []\n",
    "\n",
    "    symbolic_sliced = []\n",
    "    for var in model.free_RVs:\n",
    "        value_var = model.rvs_to_values[var]\n",
    "\n",
    "        joined_names.append(value_var.name)\n",
    "        shape = shapes[value_var.name]\n",
    "        joined_shapes.append(shape)\n",
    "        length = prod(shape)\n",
    "        slice_val = slice(count, count + length)\n",
    "        joined_slices.append(slice_val)\n",
    "        symbolic_sliced.append((value_var, joined[slice_val].reshape(shape)))\n",
    "        count += length\n",
    "\n",
    "    num_free_vars = count\n",
    "\n",
    "    # We should avoid compiling the function, and optimize only\n",
    "    func = aesara.function(\n",
    "        (joined,), (logp, grad), givens=symbolic_sliced, mode=aesara.compile.NUMBA\n",
    "    )\n",
    "    fgraph = func.maker.fgraph\n",
    "    func = aesara.link.numba.dispatch.numba_funcify(fgraph)\n",
    "    # logp_func = numba.njit(func)\n",
    "    logp_func = func\n",
    "\n",
    "    # Make function that computes remaining variables for the trace\n",
    "    trace_vars = {\n",
    "        name: var\n",
    "        for (name, var) in model.named_vars.items()\n",
    "        if var not in model.observed_RVs + model.potentials\n",
    "    }\n",
    "    remaining_names = [name for name in trace_vars if name not in joined_names]\n",
    "    remaining_rvs = [\n",
    "        var for var in model.unobserved_value_vars if var.name not in joined_names\n",
    "    ]\n",
    "\n",
    "    all_names = joined_names + remaining_rvs\n",
    "\n",
    "    all_names = joined_names.copy()\n",
    "    all_slices = joined_slices.copy()\n",
    "    all_shapes = joined_shapes.copy()\n",
    "\n",
    "    for var in remaining_rvs:\n",
    "        all_names.append(var.name)\n",
    "        shape = shapes[var.name]\n",
    "        all_shapes.append(shape)\n",
    "        length = prod(shape)\n",
    "        all_slices.append(slice(count, count + length))\n",
    "        count += length\n",
    "\n",
    "    allvars = at.concatenate([joined, *[var.ravel() for var in remaining_rvs]])\n",
    "    func = aesara.function(\n",
    "        (joined,), (allvars,), givens=symbolic_sliced, mode=aesara.compile.NUMBA\n",
    "    )\n",
    "    fgraph = func.maker.fgraph\n",
    "    func = aesara.link.numba.dispatch.numba_funcify(fgraph)\n",
    "    expanding_function = numba.njit(func, fastmath=True, error_model=\"numpy\")\n",
    "\n",
    "    return (\n",
    "        num_free_vars,\n",
    "        logp_func,\n",
    "        expanding_function,\n",
    "        (all_names, all_slices, all_shapes),\n",
    "    )\n",
    "\n",
    "\n",
    "def make_c_logp_func(N, logp_func):\n",
    "    c_sig = numba.types.int64(\n",
    "        numba.types.uint64,\n",
    "        numba.types.CPointer(numba.types.double),\n",
    "        numba.types.CPointer(numba.types.double),\n",
    "        numba.types.CPointer(numba.types.double),\n",
    "        numba.types.voidptr,\n",
    "    )\n",
    "\n",
    "    def rerun_inner(x):\n",
    "        try:\n",
    "            logp_func(x)\n",
    "        except Exception as e:\n",
    "            print(e)\n",
    "\n",
    "    @numba.njit()\n",
    "    def rerun(x):\n",
    "        with numba.objmode():\n",
    "            rerun_inner(x)\n",
    "\n",
    "    def logp_numba(dim, x_, out_, logp_, user_data_):\n",
    "        try:\n",
    "            x = numba.carray(x_, (N,))\n",
    "            out = numba.carray(out_, (N,))\n",
    "            logp = numba.carray(logp_, ())\n",
    "\n",
    "            logp_val, grad = logp_func(x)\n",
    "            logp[()] = logp_val\n",
    "            out[...] = grad\n",
    "\n",
    "            if not np.all(np.isfinite(out)):\n",
    "                return 2\n",
    "            if not np.isfinite(logp_val):\n",
    "                return 3\n",
    "            return 0\n",
    "        except Exception:\n",
    "            return 1\n",
    "\n",
    "    # logp_numba.compile()\n",
    "    return logp_numba, c_sig\n",
    "\n",
    "\n",
    "def sample(\n",
    "    *,\n",
    "    N,\n",
    "    logp_numba,\n",
    "    expanding_function,\n",
    "    shape_info,\n",
    "    n_tune,\n",
    "    n_draws,\n",
    "    n_chains,\n",
    "    seed=42,\n",
    "    max_treedepth=10,\n",
    "    target_accept=0.8\n",
    "):\n",
    "    def make_user_data():\n",
    "        return 0\n",
    "\n",
    "    settings = nuts_py.lib.PySamplerArgs()\n",
    "    settings.num_tune = n_tune\n",
    "    settings.maxdepth = max_treedepth\n",
    "    settings.target_accept = target_accept\n",
    "    x = np.random.randn(N)\n",
    "    sampler = nuts_py.lib.PyParallelSampler(\n",
    "        logp_numba.address,\n",
    "        make_user_data,\n",
    "        N,\n",
    "        x,\n",
    "        settings,\n",
    "        n_chains=n_chains,\n",
    "        n_draws=n_draws,\n",
    "        seed=seed,\n",
    "        n_try_init=10,\n",
    "    )\n",
    "\n",
    "    try:\n",
    "        n_expanded = len(expanding_function(x)[0])\n",
    "        draws = np.full((n_chains, n_draws + n_tune, n_expanded), np.nan)\n",
    "        infos = []\n",
    "        for draw, info in fastprogress.progress_bar(\n",
    "            sampler, total=n_chains * (n_draws + n_tune)\n",
    "        ):\n",
    "            infos.append(info)\n",
    "            draws[info.chain, info.draw, :] = expanding_function(draw)[0]\n",
    "    finally:\n",
    "        sampler.finalize()\n",
    "\n",
    "    trace_dict = {}\n",
    "    trace_dict_tune = {}\n",
    "    for name, slice_, shape in zip(*shape_info):\n",
    "        trace_dict_tune[name] = draws[:, :n_tune, slice_].reshape(\n",
    "            (n_chains, n_tune) + tuple(shape)\n",
    "        )\n",
    "        trace_dict[name] = draws[:, n_tune:, slice_].reshape(\n",
    "            (n_chains, n_draws) + tuple(shape)\n",
    "        )\n",
    "\n",
    "    stat_dtypes = {\n",
    "        \"index_in_trajectory\": np.int64,\n",
    "        \"mean_tree_accept\": np.float64,\n",
    "        \"depth\": np.int64,\n",
    "        \"maxdepth_reached\": bool,\n",
    "        \"logp\": np.float64,\n",
    "        \"energy\": np.float64,\n",
    "        \"diverging\": bool,\n",
    "        \"step_size\": np.float64,\n",
    "        \"step_size_bar\": np.float64,\n",
    "        \"mean_tree_accept\": np.float64,\n",
    "    }\n",
    "\n",
    "    # This is actually relatively slow, we should be able to speed this up\n",
    "    stats = {}\n",
    "    stats_tune = {}\n",
    "    for name, dtype in stat_dtypes.items():\n",
    "        stats[name] = np.zeros((n_chains, n_draws), dtype=dtype)\n",
    "        stats_tune[name] = np.zeros((n_chains, n_tune), dtype=dtype)\n",
    "\n",
    "    for info in infos:\n",
    "        info_dict = info.as_dict()\n",
    "        if info.draw < n_tune:\n",
    "            out = stats_tune\n",
    "            draw = info.draw\n",
    "        else:\n",
    "            out = stats\n",
    "            draw = info.draw - n_tune\n",
    "        for name in stat_dtypes:\n",
    "            out[name][info.chain, draw] = info_dict[name]\n",
    "\n",
    "    return arviz.from_dict(\n",
    "        posterior=trace_dict,\n",
    "        warmup_posterior=trace_dict_tune,\n",
    "        save_warmup=True,\n",
    "        coords=model.coords,\n",
    "        dims=model._RV_dims,\n",
    "        sample_stats=stats,\n",
    "        warmup_sample_stats=stats_tune,\n",
    "    )"
   ]
  },
  {
   "cell_type": "code",
   "execution_count": 4,
   "id": "68901cd4",
   "metadata": {},
   "outputs": [],
   "source": [
    "N = 1000\n",
    "idx = np.arange(N, dtype=int)\n",
    "np.random.shuffle(idx)\n",
    "with pm.Model() as model:\n",
    "    mu = pm.Normal(\"a\", shape=N, sigma=1e-4)\n",
    "    #b = pm.Normal(\"b\", shape=N, sigma=2000.)\n",
    "    #pm.Deterministic(\"b\", 2 * a)\n",
    "    #sd = pm.Gamma(\"sd\", sigma=0.1, mu=1)\n",
    "    #pm.Normal(\"a\", sigma=1, shape=N)\n",
    "    #pm.Gamma(\"b\", mu=1, sigma=0.1, shape=N)\n",
    "    #pm.SkewNormal(\"a\", alpha=np.array([3., 3.]), shape=2)\n",
    "    #pm.HalfNormal(\"a\", shape=2)\n",
    "    #pm.Mixture(\"a\", w=[0.5, 0.5])\n",
    "    #pm.Normal(\"y\", observed=3.)\n",
    "    pm.Normal(\"y\", mu=mu[idx], observed=5 + np.random.randn(N))"
   ]
  },
  {
   "cell_type": "code",
   "execution_count": 5,
   "id": "0f89e61e",
   "metadata": {},
   "outputs": [],
   "source": [
    "n_chains = 4"
   ]
  },
  {
   "cell_type": "markdown",
   "id": "20f5944c-e63a-4698-85de-542ab322bed1",
   "metadata": {},
   "source": [
    "## Sample using PyMC NUTS"
   ]
  },
  {
   "cell_type": "code",
   "execution_count": 6,
   "id": "5a7948db",
   "metadata": {},
   "outputs": [
    {
     "name": "stderr",
     "output_type": "stream",
     "text": [
      "Auto-assigning NUTS sampler...\n",
      "Initializing NUTS using jitter+adapt_diag_grad...\n",
      "Multiprocess sampling (4 chains in 10 jobs)\n",
      "NUTS: [a]\n"
     ]
    },
    {
     "data": {
      "text/html": [
       "\n",
       "<style>\n",
       "    /* Turns off some styling */\n",
       "    progress {\n",
       "        /* gets rid of default border in Firefox and Opera. */\n",
       "        border: none;\n",
       "        /* Needs to be in here for Safari polyfill so background images work as expected. */\n",
       "        background-size: auto;\n",
       "    }\n",
       "    .progress-bar-interrupted, .progress-bar-interrupted::-webkit-progress-bar {\n",
       "        background: #F44336;\n",
       "    }\n",
       "</style>\n"
      ],
      "text/plain": [
       "<IPython.core.display.HTML object>"
      ]
     },
     "metadata": {},
     "output_type": "display_data"
    },
    {
     "data": {
      "text/html": [
       "\n",
       "    <div>\n",
       "      <progress value='8000' class='' max='8000' style='width:300px; height:20px; vertical-align: middle;'></progress>\n",
       "      100.00% [8000/8000 00:13<00:00 Sampling 4 chains, 0 divergences]\n",
       "    </div>\n",
       "    "
      ],
      "text/plain": [
       "<IPython.core.display.HTML object>"
      ]
     },
     "metadata": {},
     "output_type": "display_data"
    },
    {
     "name": "stderr",
     "output_type": "stream",
     "text": [
      "Sampling 4 chains for 1_000 tune and 1_000 draw iterations (4_000 + 4_000 draws total) took 14 seconds.\n"
     ]
    },
    {
     "name": "stdout",
     "output_type": "stream",
     "text": [
      "CPU times: user 5.48 s, sys: 607 ms, total: 6.08 s\n",
      "Wall time: 19.2 s\n"
     ]
    }
   ],
   "source": [
    "%%time\n",
    "with threadpoolctl.threadpool_limits(1):\n",
    "    with model:\n",
    "        trace_py = pm.sample(\n",
    "            init=\"jitter+adapt_diag_grad\",\n",
    "            draws=1000,\n",
    "            chains=n_chains,\n",
    "            cores=10,\n",
    "            idata_kwargs={\"log_likelihood\": False},\n",
    "            compute_convergence_checks=False,\n",
    "            target_accept=0.8,\n",
    "            discard_tuned_samples=False,\n",
    "        )"
   ]
  },
  {
   "cell_type": "markdown",
   "id": "a396e3f4-36a4-480d-a99a-42f09e55ca06",
   "metadata": {},
   "source": [
    "## Compile functions for rust sampler"
   ]
  },
  {
   "cell_type": "code",
   "execution_count": 9,
   "id": "b8d0a2c8",
   "metadata": {},
   "outputs": [],
   "source": [
    "from aesara import config"
   ]
  },
  {
   "cell_type": "code",
   "execution_count": 10,
   "id": "659a1fb9",
   "metadata": {},
   "outputs": [],
   "source": [
    "config.numba__error_model = \"numpy\"\n",
    "config.numba__nogil = True\n",
    "config.numba__cache = False\n",
    "config.numba__boundscheck = True\n",
    "config.numba__fastmath = True\n",
    "config.numba__parallel = False"
   ]
  },
  {
   "cell_type": "code",
   "execution_count": 11,
   "id": "17558fce",
   "metadata": {},
   "outputs": [],
   "source": [
    "kwargs = {\n",
    "    \"error_model\": config.numba__error_model,\n",
    "    \"nogil\": config.numba__nogil,\n",
    "    \"boundscheck\": config.numba__boundscheck,\n",
    "    \"fastmath\": config.numba__fastmath,\n",
    "    \"parallel\": config.numba__parallel,\n",
    "}"
   ]
  },
  {
   "cell_type": "code",
   "execution_count": 12,
   "id": "b62e6c17",
   "metadata": {},
   "outputs": [
    {
     "name": "stdout",
     "output_type": "stream",
     "text": [
      "CPU times: user 4.34 s, sys: 84.6 ms, total: 4.43 s\n",
      "Wall time: 4.47 s\n"
     ]
    }
   ],
   "source": [
    "%%time\n",
    "n_dim, logp_func, expanding_function, shape_info = make_functions(model)\n",
    "logp_func = numba.njit(**kwargs)(logp_func)\n",
    "logp_numba_raw, c_sig = make_c_logp_func(n_dim, logp_func)\n",
    "logp_numba = numba.cfunc(c_sig, **kwargs)(logp_numba_raw)"
   ]
  },
  {
   "cell_type": "code",
   "execution_count": 19,
   "id": "15606d7b-3d49-48a5-8978-5446dc00549d",
   "metadata": {},
   "outputs": [],
   "source": [
    "#x = np.random.randn(n_dim)\n",
    "\n",
    "#from numba.pycc import CC\n",
    "\n",
    "#cc = CC('logp_module')\n",
    "#cc.target_cpu = \"host\"\n",
    "#logp_func(np.random.randn(n_dim))\n",
    "#cc.export(\"logp_grad\", logp_func.signatures[0])(logp_func)\n",
    "#cc.compile()\n",
    "\n",
    "#func_orig = model.logp_dlogp_function()\n",
    "#func_orig.set_extra_values({})\n",
    "#%timeit func_orig._aesara_function(x)"
   ]
  },
  {
   "cell_type": "code",
   "execution_count": 13,
   "id": "ecae45dd",
   "metadata": {},
   "outputs": [],
   "source": [
    "n_draws = 1000\n",
    "seed = 40"
   ]
  },
  {
   "cell_type": "code",
   "execution_count": 14,
   "id": "5f418686",
   "metadata": {},
   "outputs": [],
   "source": [
    "def make_user_data():\n",
    "    return 0\n",
    "\n",
    "settings = nuts_py.lib.PySamplerArgs()\n",
    "settings.num_tune = 1000\n",
    "settings.maxdepth = 10\n",
    "settings.target_accept = 0.8\n",
    "\n",
    "x = np.random.randn(n_dim)"
   ]
  },
  {
   "cell_type": "markdown",
   "id": "a16ab535-18b1-4663-8f24-c288f8849846",
   "metadata": {},
   "source": [
    "## Sample using rust sampler with no parallelization"
   ]
  },
  {
   "cell_type": "code",
   "execution_count": 15,
   "id": "b9169c10",
   "metadata": {},
   "outputs": [
    {
     "name": "stdout",
     "output_type": "stream",
     "text": [
      "CPU times: user 2.81 s, sys: 35.7 ms, total: 2.84 s\n",
      "Wall time: 2.83 s\n"
     ]
    }
   ],
   "source": [
    "%%time\n",
    "draws = []\n",
    "tune = []\n",
    "for i in range(n_chains):\n",
    "    sampler = nuts_py.lib.PySampler(logp_numba.address, make_user_data, x, n_dim, settings, draws=n_draws + settings.num_tune, chain=0, seed=seed + i)\n",
    "    samples = list(sampler)\n",
    "    tune.extend(samples[:settings.num_tune])\n",
    "    draws.extend(samples[settings.num_tune:])"
   ]
  },
  {
   "cell_type": "code",
   "execution_count": 16,
   "id": "2557ffc1",
   "metadata": {},
   "outputs": [],
   "source": [
    "from scipy import stats\n",
    "import seaborn as sns"
   ]
  },
  {
   "cell_type": "code",
   "execution_count": 17,
   "id": "e9943996-4363-4cf0-b14d-27de030bd3a1",
   "metadata": {},
   "outputs": [],
   "source": [
    "#draws = np.array([vals for vals, _ in draws]).ravel()\n",
    "#stats.ks_1samp(draws / 2, stats.norm.cdf)"
   ]
  },
  {
   "cell_type": "markdown",
   "id": "178ecb22-dbb0-4798-8b5d-b67d8904b5af",
   "metadata": {},
   "source": [
    "## Rust sampling with raw parallelization"
   ]
  },
  {
   "cell_type": "code",
   "execution_count": 18,
   "id": "4d5f1548",
   "metadata": {},
   "outputs": [
    {
     "name": "stdout",
     "output_type": "stream",
     "text": [
      "CPU times: user 5.36 s, sys: 101 ms, total: 5.47 s\n",
      "Wall time: 1.3 s\n"
     ]
    }
   ],
   "source": [
    "%%time\n",
    "n_draws = 1000\n",
    "seed = 4\n",
    "\n",
    "def make_user_data():\n",
    "    return 0\n",
    "\n",
    "settings = nuts_py.lib.PySamplerArgs()\n",
    "settings.num_tune = 1000\n",
    "settings.maxdepth = 10\n",
    "settings.target_accept = 0.8\n",
    "x = np.random.randn(n_dim)\n",
    "\n",
    "sampler = nuts_py.lib.PyParallelSampler(\n",
    "    logp_numba.address,\n",
    "    make_user_data,\n",
    "    n_dim,\n",
    "    x,\n",
    "    settings,\n",
    "    n_chains=n_chains,\n",
    "    n_draws=n_draws,\n",
    "    seed=seed,\n",
    "    n_try_init=10\n",
    ")\n",
    "draws = list(sampler)"
   ]
  },
  {
   "cell_type": "markdown",
   "id": "996e0bca-a2e5-45cd-a3e1-36de63d988a0",
   "metadata": {},
   "source": [
    "## Parallel rust sampling with progress and arviz export"
   ]
  },
  {
   "cell_type": "code",
   "execution_count": 19,
   "id": "a87bbef2",
   "metadata": {},
   "outputs": [
    {
     "data": {
      "text/plain": [
       "51389"
      ]
     },
     "execution_count": 19,
     "metadata": {},
     "output_type": "execute_result"
    }
   ],
   "source": [
    "import os\n",
    "os.getpid()"
   ]
  },
  {
   "cell_type": "code",
   "execution_count": 20,
   "id": "ff6053c3",
   "metadata": {},
   "outputs": [
    {
     "data": {
      "text/html": [
       "\n",
       "<style>\n",
       "    /* Turns off some styling */\n",
       "    progress {\n",
       "        /* gets rid of default border in Firefox and Opera. */\n",
       "        border: none;\n",
       "        /* Needs to be in here for Safari polyfill so background images work as expected. */\n",
       "        background-size: auto;\n",
       "    }\n",
       "    .progress-bar-interrupted, .progress-bar-interrupted::-webkit-progress-bar {\n",
       "        background: #F44336;\n",
       "    }\n",
       "</style>\n"
      ],
      "text/plain": [
       "<IPython.core.display.HTML object>"
      ]
     },
     "metadata": {},
     "output_type": "display_data"
    },
    {
     "data": {
      "text/html": [
       "\n",
       "    <div>\n",
       "      <progress value='8000' class='' max='8000' style='width:300px; height:20px; vertical-align: middle;'></progress>\n",
       "      100.00% [8000/8000 00:01<00:00]\n",
       "    </div>\n",
       "    "
      ],
      "text/plain": [
       "<IPython.core.display.HTML object>"
      ]
     },
     "metadata": {},
     "output_type": "display_data"
    },
    {
     "name": "stdout",
     "output_type": "stream",
     "text": [
      "CPU times: user 5.75 s, sys: 98.9 ms, total: 5.85 s\n",
      "Wall time: 1.55 s\n"
     ]
    }
   ],
   "source": [
    "%%time\n",
    "for _ in range(1):\n",
    "    with threadpoolctl.threadpool_limits(1):\n",
    "        trace_rust = sample(\n",
    "            N=n_dim,\n",
    "            logp_numba=logp_numba,\n",
    "            expanding_function=expanding_function,\n",
    "            shape_info=shape_info,\n",
    "            max_treedepth=10,\n",
    "            n_tune=1000,\n",
    "            n_draws=1000,\n",
    "            n_chains=n_chains,\n",
    "            seed=6,\n",
    "            target_accept=0.8,\n",
    "        )"
   ]
  },
  {
   "cell_type": "code",
   "execution_count": 21,
   "id": "bdaa904d",
   "metadata": {},
   "outputs": [],
   "source": [
    "import seaborn as sns"
   ]
  },
  {
   "cell_type": "code",
   "execution_count": 22,
   "id": "90093f0b",
   "metadata": {},
   "outputs": [
    {
     "data": {
      "text/plain": [
       "<AxesSubplot:ylabel='Density'>"
      ]
     },
     "execution_count": 22,
     "metadata": {},
     "output_type": "execute_result"
    },
    {
     "data": {
      "image/png": "[encoded data removed]",
      "text/plain": [
       "<Figure size 432x288 with 1 Axes>"
      ]
     },
     "metadata": {
      "needs_background": "light"
     },
     "output_type": "display_data"
    }
   ],
   "source": [
    "sns.kdeplot(trace_rust.posterior[\"a\"].values[:, :, 0].ravel())\n",
    "sns.kdeplot(trace_py.posterior[\"a\"].values[:, :, 0].ravel())\n",
    "#sns.kdeplot(np.random.randn(16_000))"
   ]
  },
  {
   "cell_type": "code",
   "execution_count": 23,
   "id": "887836c8",
   "metadata": {},
   "outputs": [],
   "source": [
    "#stats.ks_1samp(trace_rust.posterior[\"a\"].values[:, :, 0].ravel() / 0.1, stats.norm.cdf)"
   ]
  },
  {
   "cell_type": "code",
   "execution_count": 24,
   "id": "0306c463",
   "metadata": {},
   "outputs": [],
   "source": [
    "#stats.ks_1samp(trace_py.posterior[\"a\"].values[:, :, 0].ravel() / 0.1, stats.norm.cdf)"
   ]
  },
  {
   "cell_type": "code",
   "execution_count": 25,
   "id": "46706566",
   "metadata": {},
   "outputs": [],
   "source": [
    "#sns.kdeplot(np.log(trace_rust.posterior[\"a\"].values[:, :, -1].ravel()))\n",
    "#sns.kdeplot(np.log(trace_py.posterior[\"a\"].values[:, :, -1].ravel()))"
   ]
  },
  {
   "cell_type": "code",
   "execution_count": 26,
   "id": "811a8415",
   "metadata": {},
   "outputs": [
    {
     "data": {
      "image/png": "[encoded data removed]",
      "text/plain": [
       "<Figure size 432x288 with 1 Axes>"
      ]
     },
     "metadata": {
      "needs_background": "light"
     },
     "output_type": "display_data"
    }
   ],
   "source": [
    "sns.countplot(x=trace_rust.sample_stats.index_in_trajectory.values.ravel());"
   ]
  },
  {
   "cell_type": "code",
   "execution_count": 27,
   "id": "845b754c",
   "metadata": {},
   "outputs": [
    {
     "data": {
      "image/png": "[encoded data removed]",
      "text/plain": [
       "<Figure size 432x288 with 1 Axes>"
      ]
     },
     "metadata": {
      "needs_background": "light"
     },
     "output_type": "display_data"
    }
   ],
   "source": [
    "sns.countplot(x=trace_py.sample_stats.index_in_trajectory.values.ravel());"
   ]
  },
  {
   "cell_type": "code",
   "execution_count": 28,
   "id": "f44a3a01",
   "metadata": {},
   "outputs": [
    {
     "data": {
      "text/plain": [
       "<AxesSubplot:title={'center':'x\\n0'}>"
      ]
     },
     "execution_count": 28,
     "metadata": {},
     "output_type": "execute_result"
    },
    {
     "data": {
      "image/png": "[encoded data removed]",
      "text/plain": [
       "<Figure size 432x288 with 1 Axes>"
      ]
     },
     "metadata": {
      "needs_background": "light"
     },
     "output_type": "display_data"
    }
   ],
   "source": [
    "arviz.plot_autocorr(trace_rust.posterior.a.values[0, :, 0])"
   ]
  },
  {
   "cell_type": "code",
   "execution_count": 29,
   "id": "15da9708",
   "metadata": {},
   "outputs": [
    {
     "data": {
      "text/plain": [
       "<AxesSubplot:title={'center':'x\\n0'}>"
      ]
     },
     "execution_count": 29,
     "metadata": {},
     "output_type": "execute_result"
    },
    {
     "data": {
      "image/png": "[encoded data removed]",
      "text/plain": [
       "<Figure size 432x288 with 1 Axes>"
      ]
     },
     "metadata": {
      "needs_background": "light"
     },
     "output_type": "display_data"
    }
   ],
   "source": [
    "arviz.plot_autocorr(trace_py.posterior.a.values[0, :, 0])"
   ]
  }
 ],
 "metadata": {
  "jupytext": {
   "formats": "ipynb,md"
  },
  "kernelspec": {
   "display_name": "pymc",
   "language": "python",
   "name": "pymc"
  },
  "language_info": {
   "codemirror_mode": {
    "name": "ipython",
    "version": 3
   },
   "file_extension": ".py",
   "mimetype": "text/x-python",
   "name": "python",
   "nbconvert_exporter": "python",
   "pygments_lexer": "ipython3",
   "version": "3.9.10"
  }
 },
 "nbformat": 4,
 "nbformat_minor": 5
}
